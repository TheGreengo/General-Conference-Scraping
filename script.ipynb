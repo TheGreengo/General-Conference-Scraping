{
 "cells": [
  {
   "attachments": {},
   "cell_type": "markdown",
   "metadata": {},
   "source": [
    "# General Conference Scraping Project\n",
    "The end goal for this project is to create a .csv file with columns for:\n",
    "- titles\n",
    "- authors\n",
    "- conference edition \n",
    "- some place to check them off when I have read them\n",
    "- a place to list all of the quotes that I liked from them\n",
    "for every general conference talk given in my lifetime."
   ]
  },
  {
   "cell_type": "code",
   "execution_count": 24,
   "metadata": {},
   "outputs": [],
   "source": [
    "\n",
    "import sys\n",
    "sys.path.append('/Library/Frameworks/Python.framework/Versions/3.10/lib/python3.10/site-packages')\n",
    "import requests\n",
    "from bs4 import BeautifulSoup"
   ]
  },
  {
   "cell_type": "code",
   "execution_count": 35,
   "metadata": {},
   "outputs": [
    {
     "name": "stdout",
     "output_type": "stream",
     "text": [
      "Welcome to Conference\n",
      "President Gordon B. Hinckley\n"
     ]
    }
   ],
   "source": [
    "# Making a GET request\n",
    "r = requests.get('https://www.churchofjesuschrist.org/study/general-conference/1999/10/welcome-to-conference?lang=eng')\n",
    " \n",
    "# print content of request with beautiful soup helping\n",
    "soup = BeautifulSoup(r.content, 'html.parser')\n",
    "\n",
    "s = soup.find('p', class_='author-name')\n",
    "\n",
    "print(soup.title.text)\n",
    "print(s.text[3:])"
   ]
  },
  {
   "attachments": {},
   "cell_type": "markdown",
   "metadata": {},
   "source": [
    "Here I'll define some reference strings for general conference urls"
   ]
  },
  {
   "cell_type": "code",
   "execution_count": 80,
   "metadata": {},
   "outputs": [],
   "source": [
    "start = 'https://www.churchofjesuschrist.org/study/general-conference/'\n",
    "end = '?lang=eng'\n",
    "refMod = 'https://www.churchofjesuschrist.org'"
   ]
  },
  {
   "attachments": {},
   "cell_type": "markdown",
   "metadata": {},
   "source": [
    "And then just create a list of all the urls for individual conference landing pages."
   ]
  },
  {
   "cell_type": "code",
   "execution_count": 64,
   "metadata": {},
   "outputs": [
    {
     "name": "stdout",
     "output_type": "stream",
     "text": [
      "['https://www.churchofjesuschrist.org/study/general-conference/1999/04?lang=eng', 'https://www.churchofjesuschrist.org/study/general-conference/1999/10?lang=eng', 'https://www.churchofjesuschrist.org/study/general-conference/2000/04?lang=eng', 'https://www.churchofjesuschrist.org/study/general-conference/2000/10?lang=eng', 'https://www.churchofjesuschrist.org/study/general-conference/2001/04?lang=eng', 'https://www.churchofjesuschrist.org/study/general-conference/2001/10?lang=eng', 'https://www.churchofjesuschrist.org/study/general-conference/2002/04?lang=eng', 'https://www.churchofjesuschrist.org/study/general-conference/2002/10?lang=eng', 'https://www.churchofjesuschrist.org/study/general-conference/2003/04?lang=eng', 'https://www.churchofjesuschrist.org/study/general-conference/2003/10?lang=eng', 'https://www.churchofjesuschrist.org/study/general-conference/2004/04?lang=eng', 'https://www.churchofjesuschrist.org/study/general-conference/2004/10?lang=eng', 'https://www.churchofjesuschrist.org/study/general-conference/2005/04?lang=eng', 'https://www.churchofjesuschrist.org/study/general-conference/2005/10?lang=eng', 'https://www.churchofjesuschrist.org/study/general-conference/2006/04?lang=eng', 'https://www.churchofjesuschrist.org/study/general-conference/2006/10?lang=eng', 'https://www.churchofjesuschrist.org/study/general-conference/2007/04?lang=eng', 'https://www.churchofjesuschrist.org/study/general-conference/2007/10?lang=eng', 'https://www.churchofjesuschrist.org/study/general-conference/2008/04?lang=eng', 'https://www.churchofjesuschrist.org/study/general-conference/2008/10?lang=eng', 'https://www.churchofjesuschrist.org/study/general-conference/2009/04?lang=eng', 'https://www.churchofjesuschrist.org/study/general-conference/2009/10?lang=eng', 'https://www.churchofjesuschrist.org/study/general-conference/2010/04?lang=eng', 'https://www.churchofjesuschrist.org/study/general-conference/2010/10?lang=eng', 'https://www.churchofjesuschrist.org/study/general-conference/2011/04?lang=eng', 'https://www.churchofjesuschrist.org/study/general-conference/2011/10?lang=eng', 'https://www.churchofjesuschrist.org/study/general-conference/2012/04?lang=eng', 'https://www.churchofjesuschrist.org/study/general-conference/2012/10?lang=eng', 'https://www.churchofjesuschrist.org/study/general-conference/2013/04?lang=eng', 'https://www.churchofjesuschrist.org/study/general-conference/2013/10?lang=eng', 'https://www.churchofjesuschrist.org/study/general-conference/2014/04?lang=eng', 'https://www.churchofjesuschrist.org/study/general-conference/2014/10?lang=eng', 'https://www.churchofjesuschrist.org/study/general-conference/2015/04?lang=eng', 'https://www.churchofjesuschrist.org/study/general-conference/2015/10?lang=eng', 'https://www.churchofjesuschrist.org/study/general-conference/2016/04?lang=eng', 'https://www.churchofjesuschrist.org/study/general-conference/2016/10?lang=eng', 'https://www.churchofjesuschrist.org/study/general-conference/2017/04?lang=eng', 'https://www.churchofjesuschrist.org/study/general-conference/2017/10?lang=eng', 'https://www.churchofjesuschrist.org/study/general-conference/2018/04?lang=eng', 'https://www.churchofjesuschrist.org/study/general-conference/2018/10?lang=eng', 'https://www.churchofjesuschrist.org/study/general-conference/2019/04?lang=eng', 'https://www.churchofjesuschrist.org/study/general-conference/2019/10?lang=eng', 'https://www.churchofjesuschrist.org/study/general-conference/2020/04?lang=eng', 'https://www.churchofjesuschrist.org/study/general-conference/2020/10?lang=eng', 'https://www.churchofjesuschrist.org/study/general-conference/2021/04?lang=eng', 'https://www.churchofjesuschrist.org/study/general-conference/2021/10?lang=eng', 'https://www.churchofjesuschrist.org/study/general-conference/2022/04?lang=eng', 'https://www.churchofjesuschrist.org/study/general-conference/2022/10?lang=eng', 'https://www.churchofjesuschrist.org/study/general-conference/2023/04?lang=eng']\n"
     ]
    }
   ],
   "source": [
    "links = []\n",
    "for i in range(1999,2024):\n",
    "    for j in ['04','10']:\n",
    "        links.append(start + str(i) + '/' + j + end)\n",
    "\n",
    "links.pop()\n",
    "\n",
    "print(links)\n",
    "    "
   ]
  },
  {
   "attachments": {},
   "cell_type": "markdown",
   "metadata": {},
   "source": [
    "In order to test how things are working, I'll keep an output file to check how things are going. This next chunk is just a reference section to remind me how to do so."
   ]
  },
  {
   "cell_type": "code",
   "execution_count": null,
   "metadata": {},
   "outputs": [],
   "source": [
    "with open('output.txt','w') as f:\n",
    "    f.write('lolz')\n",
    "    for i in links:\n",
    "        f.write('\\n')\n",
    "        f.write(i)"
   ]
  },
  {
   "cell_type": "code",
   "execution_count": 92,
   "metadata": {},
   "outputs": [
    {
     "name": "stdout",
     "output_type": "stream",
     "text": [
      "The Work Moves Forward\n",
      "President Gordon B. Hinckley\n",
      "Teach Them the Word of God with All Diligence\n",
      "Elder L. Tom Perry\n",
      "Greed, Selfishness, and Overindulgence\n",
      "Elder Joe J. Christensen\n",
      "Preparing Our Families for the Temple\n",
      "Carol B. Thomas\n",
      "The Hands of the Fathers\n",
      "Elder Jeffrey R. Holland\n",
      "This Is Our Day\n",
      "President James E. Faust\n",
      "The Sustaining of Church Officers\n",
      "President Thomas S. Monson\n",
      "The Church Audit Committee Report\n",
      "sented by Ted E. Davis\n",
      "Statistical Report, 1998\n",
      "sented by F. Michael Watson\n",
      "“Repent of [Our] Selfishness” (D&amp;C 56:8)\n",
      "Elder Neal A. Maxwell\n",
      "Receive the Temple Blessings\n",
      "Elder Richard G. Scott\n",
      "“Out of Small Things”\n",
      "Elder Stephen A. West\n",
      "True Followers\n",
      "Elder Robert J. Whetten\n",
      "Strengthening Families: Our Sacred Duty\n",
      "Elder Robert D. Hales\n",
      "The Witness: Martin Harris\n",
      "Elder Dallin H. Oaks\n",
      "Our Sacred Duty to Honor Women\n",
      "Elder Russell M. Nelson\n",
      "“Made Like unto the Son of God”\n",
      "Elder Ray H. Wood\n",
      "Fellowshipping\n",
      "Elder Ned B. Roueché\n",
      "Priesthood and the Home\n",
      "Elder D. Lee Tobler\n",
      "Obedience: The Path to Freedom\n",
      "President James E. Faust\n",
      "The Priesthood—Mighty Army of the Lord\n",
      "President Thomas S. Monson\n",
      "The Shepherds of the Flock\n",
      "President Gordon B. Hinckley\n",
      "For I Was Blind, but Now I See\n",
      "President Thomas S. Monson\n",
      "The Bishop and His Counselors\n",
      "President Boyd K. Packer\n",
      "Friendship: A Gospel Principle\n",
      "Elder Marlin K. Jensen\n",
      "Our Only Chance\n",
      "Sheri L. Dew\n",
      "Love and Service\n",
      "Elder David B. Haight\n",
      "“He Is Not Here, but Is Risen”\n",
      "President Gordon B. Hinckley\n",
      "The Power of Teaching Doctrine\n",
      "Elder Henry B. Eyring\n",
      "Inspired Church Welfare\n",
      "Elder Joseph B. Wirthlin\n",
      "Welcome Home\n",
      "Bishop Keith B. McMullin\n",
      "Your Name Is Safe in Our Home\n",
      "Elder Cree-L Kofford\n",
      "Bridges and Eternal Keepsakes\n",
      "Elder Dennis B. Neuenschwander\n",
      "Like a Flame Unquenchable\n",
      "Elder M. Russell Ballard\n",
      "Thanks to the Lord for His Blessings\n",
      "President Gordon B. Hinckley\n",
      "Your Light in the Wilderness\n",
      "Sharon G. Larsen\n",
      "Spiritual Power of Our Baptism\n",
      "Carol B. Thomas\n",
      "Follow the Light\n",
      "Margaret D. Nadauld\n",
      "Your Celestial Journey\n",
      "President Thomas S. Monson\n",
      "Find the Lambs, Feed the Sheep\n",
      "President Gordon B. Hinckley\n"
     ]
    }
   ],
   "source": [
    "with open('output.txt','w') as f:\n",
    "    i = links[0]\n",
    "    r = requests.get(i)\n",
    "    soup = BeautifulSoup(r.content, 'html.parser')\n",
    "    s = soup.find('div', class_='body')\n",
    "    stuff = s.findAll('a')\n",
    "    for j in stuff:\n",
    "        r2 = requests.get(refMod + j.get('href'))\n",
    "        soup2 = BeautifulSoup(r2.content, 'html.parser')\n",
    "\n",
    "        if soup2.find('p', class_='author-name'):\n",
    "            s2 = soup2.find('p', class_='author-name')\n",
    "            print(soup2.title.text)\n",
    "            print(s2.text[3:])"
   ]
  }
 ],
 "metadata": {
  "kernelspec": {
   "display_name": "Python 3",
   "language": "python",
   "name": "python3"
  },
  "language_info": {
   "codemirror_mode": {
    "name": "ipython",
    "version": 3
   },
   "file_extension": ".py",
   "mimetype": "text/x-python",
   "name": "python",
   "nbconvert_exporter": "python",
   "pygments_lexer": "ipython3",
   "version": "3.11.3"
  },
  "orig_nbformat": 4
 },
 "nbformat": 4,
 "nbformat_minor": 2
}
