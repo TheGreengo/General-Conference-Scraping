{
 "cells": [
  {
   "attachments": {},
   "cell_type": "markdown",
   "metadata": {},
   "source": [
    "# General Conference Scraping Project\n",
    "The end goal for this project is to create a .csv file with columns for:\n",
    "- titles\n",
    "- authors\n",
    "- conference edition \n",
    "- some place to check them off when I have read them\n",
    "- a place to list all of the quotes that I liked from them\n",
    "for every general conference talk given in my lifetime."
   ]
  },
  {
   "cell_type": "code",
   "execution_count": 3,
   "metadata": {},
   "outputs": [
    {
     "name": "stdout",
     "output_type": "stream",
     "text": [
      "Let's get our conference on!\n"
     ]
    }
   ],
   "source": [
    "print(\"Let's get our conference on!\")"
   ]
  }
 ],
 "metadata": {
  "kernelspec": {
   "display_name": "Python 3",
   "language": "python",
   "name": "python3"
  },
  "language_info": {
   "codemirror_mode": {
    "name": "ipython",
    "version": 3
   },
   "file_extension": ".py",
   "mimetype": "text/x-python",
   "name": "python",
   "nbconvert_exporter": "python",
   "pygments_lexer": "ipython3",
   "version": "3.11.3"
  },
  "orig_nbformat": 4
 },
 "nbformat": 4,
 "nbformat_minor": 2
}
