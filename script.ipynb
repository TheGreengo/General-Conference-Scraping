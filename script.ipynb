{
 "cells": [
  {
   "attachments": {},
   "cell_type": "markdown",
   "metadata": {},
   "source": [
    "# General Conference Scraping Project\n",
    "The end goal for this project is to create a .csv file with columns for:\n",
    "- titles\n",
    "- authors\n",
    "- conference edition \n",
    "- some place to check them off when I have read them\n",
    "- a place to list all of the quotes that I liked from them\n",
    "for every general conference talk given in my lifetime."
   ]
  },
  {
   "cell_type": "code",
   "execution_count": 24,
   "metadata": {},
   "outputs": [],
   "source": [
    "\n",
    "import sys\n",
    "sys.path.append('/Library/Frameworks/Python.framework/Versions/3.10/lib/python3.10/site-packages')\n",
    "import requests\n",
    "from bs4 import BeautifulSoup"
   ]
  },
  {
   "cell_type": "code",
   "execution_count": 28,
   "metadata": {},
   "outputs": [
    {
     "name": "stdout",
     "output_type": "stream",
     "text": [
      "The Greatest Easter Story Ever Told\n"
     ]
    }
   ],
   "source": [
    "# Making a GET request\n",
    "r = requests.get('https://www.churchofjesuschrist.org/study/general-conference/2023/04/11stevenson?lang=eng')\n",
    " \n",
    "# print content of request with beautiful soup helping\n",
    "soup = BeautifulSoup(r.content, 'html.parser')\n",
    "print(soup.title.text)"
   ]
  }
 ],
 "metadata": {
  "kernelspec": {
   "display_name": "Python 3",
   "language": "python",
   "name": "python3"
  },
  "language_info": {
   "codemirror_mode": {
    "name": "ipython",
    "version": 3
   },
   "file_extension": ".py",
   "mimetype": "text/x-python",
   "name": "python",
   "nbconvert_exporter": "python",
   "pygments_lexer": "ipython3",
   "version": "3.11.3"
  },
  "orig_nbformat": 4
 },
 "nbformat": 4,
 "nbformat_minor": 2
}
