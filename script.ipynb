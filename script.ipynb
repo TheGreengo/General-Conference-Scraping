{
 "cells": [
  {
   "attachments": {},
   "cell_type": "markdown",
   "metadata": {},
   "source": [
    "# General Conference Scraping Project\n",
    "The end goal for this project is to create a .csv file with columns for:\n",
    "- titles\n",
    "- authors\n",
    "- conference edition \n",
    "- some place to check them off when I have read them\n",
    "- a place to list all of the quotes that I liked from them\n",
    "for every general conference talk given in my lifetime."
   ]
  },
  {
   "cell_type": "code",
   "execution_count": 4,
   "metadata": {},
   "outputs": [],
   "source": [
    "\n",
    "import sys\n",
    "sys.path.append('/Library/Frameworks/Python.framework/Versions/3.10/lib/python3.10/site-packages')\n",
    "import requests\n",
    "from bs4 import BeautifulSoup\n",
    "import numpy as np\n",
    "import pandas as pd"
   ]
  },
  {
   "attachments": {},
   "cell_type": "markdown",
   "metadata": {},
   "source": [
    "Here I'll define some reference strings for general conference urls"
   ]
  },
  {
   "cell_type": "code",
   "execution_count": 3,
   "metadata": {},
   "outputs": [],
   "source": [
    "start = 'https://www.churchofjesuschrist.org/study/general-conference/'\n",
    "end = '?lang=eng'\n",
    "refMod = 'https://www.churchofjesuschrist.org'"
   ]
  },
  {
   "attachments": {},
   "cell_type": "markdown",
   "metadata": {},
   "source": [
    "And then just create a list of all the urls for individual conference landing pages."
   ]
  },
  {
   "cell_type": "code",
   "execution_count": 23,
   "metadata": {},
   "outputs": [
    {
     "name": "stdout",
     "output_type": "stream",
     "text": [
      "['https://www.churchofjesuschrist.org/study/general-conference/1999/04?lang=eng', 'https://www.churchofjesuschrist.org/study/general-conference/1999/10?lang=eng', 'https://www.churchofjesuschrist.org/study/general-conference/2000/04?lang=eng', 'https://www.churchofjesuschrist.org/study/general-conference/2000/10?lang=eng', 'https://www.churchofjesuschrist.org/study/general-conference/2001/04?lang=eng', 'https://www.churchofjesuschrist.org/study/general-conference/2001/10?lang=eng', 'https://www.churchofjesuschrist.org/study/general-conference/2002/04?lang=eng', 'https://www.churchofjesuschrist.org/study/general-conference/2002/10?lang=eng', 'https://www.churchofjesuschrist.org/study/general-conference/2003/04?lang=eng', 'https://www.churchofjesuschrist.org/study/general-conference/2003/10?lang=eng', 'https://www.churchofjesuschrist.org/study/general-conference/2004/04?lang=eng', 'https://www.churchofjesuschrist.org/study/general-conference/2004/10?lang=eng', 'https://www.churchofjesuschrist.org/study/general-conference/2005/04?lang=eng', 'https://www.churchofjesuschrist.org/study/general-conference/2005/10?lang=eng', 'https://www.churchofjesuschrist.org/study/general-conference/2006/04?lang=eng', 'https://www.churchofjesuschrist.org/study/general-conference/2006/10?lang=eng', 'https://www.churchofjesuschrist.org/study/general-conference/2007/04?lang=eng', 'https://www.churchofjesuschrist.org/study/general-conference/2007/10?lang=eng', 'https://www.churchofjesuschrist.org/study/general-conference/2008/04?lang=eng', 'https://www.churchofjesuschrist.org/study/general-conference/2008/10?lang=eng', 'https://www.churchofjesuschrist.org/study/general-conference/2009/04?lang=eng', 'https://www.churchofjesuschrist.org/study/general-conference/2009/10?lang=eng', 'https://www.churchofjesuschrist.org/study/general-conference/2010/04?lang=eng', 'https://www.churchofjesuschrist.org/study/general-conference/2010/10?lang=eng', 'https://www.churchofjesuschrist.org/study/general-conference/2011/04?lang=eng', 'https://www.churchofjesuschrist.org/study/general-conference/2011/10?lang=eng', 'https://www.churchofjesuschrist.org/study/general-conference/2012/04?lang=eng', 'https://www.churchofjesuschrist.org/study/general-conference/2012/10?lang=eng', 'https://www.churchofjesuschrist.org/study/general-conference/2013/04?lang=eng', 'https://www.churchofjesuschrist.org/study/general-conference/2013/10?lang=eng', 'https://www.churchofjesuschrist.org/study/general-conference/2014/04?lang=eng', 'https://www.churchofjesuschrist.org/study/general-conference/2014/10?lang=eng', 'https://www.churchofjesuschrist.org/study/general-conference/2015/04?lang=eng', 'https://www.churchofjesuschrist.org/study/general-conference/2015/10?lang=eng', 'https://www.churchofjesuschrist.org/study/general-conference/2016/04?lang=eng', 'https://www.churchofjesuschrist.org/study/general-conference/2016/10?lang=eng', 'https://www.churchofjesuschrist.org/study/general-conference/2017/04?lang=eng', 'https://www.churchofjesuschrist.org/study/general-conference/2017/10?lang=eng', 'https://www.churchofjesuschrist.org/study/general-conference/2018/04?lang=eng', 'https://www.churchofjesuschrist.org/study/general-conference/2018/10?lang=eng', 'https://www.churchofjesuschrist.org/study/general-conference/2019/04?lang=eng', 'https://www.churchofjesuschrist.org/study/general-conference/2019/10?lang=eng', 'https://www.churchofjesuschrist.org/study/general-conference/2020/04?lang=eng', 'https://www.churchofjesuschrist.org/study/general-conference/2020/10?lang=eng', 'https://www.churchofjesuschrist.org/study/general-conference/2021/04?lang=eng', 'https://www.churchofjesuschrist.org/study/general-conference/2021/10?lang=eng', 'https://www.churchofjesuschrist.org/study/general-conference/2022/04?lang=eng', 'https://www.churchofjesuschrist.org/study/general-conference/2022/10?lang=eng', 'https://www.churchofjesuschrist.org/study/general-conference/2023/04?lang=eng']\n",
      "['April 1999', 'October 1999', 'April 2000', 'October 2000', 'April 2001', 'October 2001', 'April 2002', 'October 2002', 'April 2003', 'October 2003', 'April 2004', 'October 2004', 'April 2005', 'October 2005', 'April 2006', 'October 2006', 'April 2007', 'October 2007', 'April 2008', 'October 2008', 'April 2009', 'October 2009', 'April 2010', 'October 2010', 'April 2011', 'October 2011', 'April 2012', 'October 2012', 'April 2013', 'October 2013', 'April 2014', 'October 2014', 'April 2015', 'October 2015', 'April 2016', 'October 2016', 'April 2017', 'October 2017', 'April 2018', 'October 2018', 'April 2019', 'October 2019', 'April 2020', 'October 2020', 'April 2021', 'October 2021', 'April 2022', 'October 2022', 'April 2023']\n"
     ]
    }
   ],
   "source": [
    "links = []\n",
    "conferences = []\n",
    "month = \"\"\n",
    "\n",
    "for i in range(1999,2024):\n",
    "    for j in ['04','10']:\n",
    "        links.append(start + str(i) + '/' + j + end)\n",
    "        \n",
    "        month = \"April\" if j == '04' else \"October\"\n",
    "\n",
    "        conferences.append(month + ' ' + str(i))\n",
    "\n",
    "links.pop()\n",
    "conferences.pop()\n",
    "\n",
    "print(links)\n",
    "print(conferences)"
   ]
  },
  {
   "attachments": {},
   "cell_type": "markdown",
   "metadata": {},
   "source": [
    "In order to test how things are working, I'll keep an output file to check how things are going. This next chunk is just a reference section to remind me how to do so."
   ]
  },
  {
   "cell_type": "code",
   "execution_count": 9,
   "metadata": {},
   "outputs": [],
   "source": [
    "with open('output.txt','w') as f:\n",
    "    for i in links:\n",
    "        f.write(i)\n",
    "        f.write('\\n')"
   ]
  },
  {
   "attachments": {},
   "cell_type": "markdown",
   "metadata": {},
   "source": [
    "This is how we'll save the data to the desired .csv file"
   ]
  },
  {
   "cell_type": "code",
   "execution_count": 25,
   "metadata": {},
   "outputs": [],
   "source": [
    "df = pd.DataFrame()"
   ]
  },
  {
   "attachments": {},
   "cell_type": "markdown",
   "metadata": {},
   "source": [
    "Define some key variables"
   ]
  },
  {
   "cell_type": "code",
   "execution_count": null,
   "metadata": {},
   "outputs": [],
   "source": [
    "titles = []\n",
    "speakers = []\n",
    "currConf = \"\"\n",
    "conferences = []"
   ]
  },
  {
   "attachments": {},
   "cell_type": "markdown",
   "metadata": {},
   "source": [
    "# And now, game time"
   ]
  },
  {
   "cell_type": "code",
   "execution_count": null,
   "metadata": {},
   "outputs": [],
   "source": [
    "titles = []\n",
    "speakers = []\n",
    "currConf = \"\"\n",
    "confs = []\n",
    "\n",
    "for i in range(len(links)):\n",
    "    print(conferences[i])\n",
    "    r = requests.get(links[i])\n",
    "\n",
    "    soup = BeautifulSoup(r.content, 'html.parser')\n",
    "\n",
    "    s = soup.find('div', class_='body')\n",
    "\n",
    "    stuff = s.findAll('a')\n",
    "\n",
    "    for j in stuff:\n",
    "        r2 = requests.get(refMod + j.get('href'))\n",
    "        soup2 = BeautifulSoup(r2.content, 'html.parser')\n",
    "\n",
    "        if soup2.find('p', class_='author-name'):\n",
    "            s2 = soup2.find('p', class_='author-name')\n",
    "            titles.append(soup2.title.text)\n",
    "            speakers.append(s2.text[3:])\n",
    "            confs.append(conferences[i])"
   ]
  },
  {
   "cell_type": "code",
   "execution_count": 26,
   "metadata": {},
   "outputs": [],
   "source": [
    "df['Title'] = titles\n",
    "df['Speaker'] = speakers\n",
    "df['Conference'] = confs"
   ]
  },
  {
   "cell_type": "code",
   "execution_count": 27,
   "metadata": {},
   "outputs": [],
   "source": [
    "df.to_csv('output.csv', index=False)"
   ]
  }
 ],
 "metadata": {
  "kernelspec": {
   "display_name": "Python 3",
   "language": "python",
   "name": "python3"
  },
  "language_info": {
   "codemirror_mode": {
    "name": "ipython",
    "version": 3
   },
   "file_extension": ".py",
   "mimetype": "text/x-python",
   "name": "python",
   "nbconvert_exporter": "python",
   "pygments_lexer": "ipython3",
   "version": "3.11.3"
  },
  "orig_nbformat": 4
 },
 "nbformat": 4,
 "nbformat_minor": 2
}
